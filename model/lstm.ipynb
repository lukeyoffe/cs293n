{
 "cells": [
  {
   "cell_type": "code",
   "execution_count": 1,
   "metadata": {},
   "outputs": [],
   "source": [
    "import json\n",
    "import pandas as pd\n",
    "from sklearn.model_selection import train_test_split\n",
    "import torch\n",
    "import torch.nn as nn\n",
    "import torch.optim as optim\n",
    "from torch.utils.data import Dataset, DataLoader\n",
    "import numpy as np\n",
    "import os\n",
    "from tqdm import trange, tqdm\n",
    "import joblib\n",
    "\n",
    "from pcap_processor import calculate_features\n",
    "\n"
   ]
  },
  {
   "cell_type": "code",
   "execution_count": 2,
   "metadata": {},
   "outputs": [
    {
     "name": "stdout",
     "output_type": "stream",
     "text": [
      "CUDA is available. PyTorch can use the GPU.\n",
      "Number of GPUs available: 1\n",
      "GPU Name: NVIDIA GeForce RTX 3070 Ti Laptop GPU\n"
     ]
    }
   ],
   "source": [
    "# Check if CUDA (NVIDIA's GPU programming toolkit) is available\n",
    "if torch.cuda.is_available():\n",
    "    print(\"CUDA is available. PyTorch can use the GPU.\")\n",
    "    print(\"Number of GPUs available:\", torch.cuda.device_count())\n",
    "    print(\"GPU Name:\", torch.cuda.get_device_name(0))\n",
    "else:\n",
    "    print(\"CUDA is not available. PyTorch cannot use the GPU.\")"
   ]
  },
  {
   "cell_type": "code",
   "execution_count": 3,
   "metadata": {},
   "outputs": [
    {
     "name": "stdout",
     "output_type": "stream",
     "text": [
      "Data tensors and target tensors loaded successfully!\n",
      "Number of data samples: 3000\n",
      "Shape of first data sample: torch.Size([300, 22])\n",
      "Shape of target tensor: torch.Size([3000])\n"
     ]
    }
   ],
   "source": [
    "# Load the tensors from the .pt files\n",
    "data_tensors = torch.load('data_tensors.pt')\n",
    "target_tensors = torch.load('target_tensors.pt')\n",
    "\n",
    "print(\"Data tensors and target tensors loaded successfully!\")\n",
    "\n",
    "# Example usage: Checking the shapes of the loaded tensors\n",
    "print(f\"Number of data samples: {len(data_tensors)}\")\n",
    "print(f\"Shape of first data sample: {data_tensors[0].shape}\")\n",
    "print(f\"Shape of target tensor: {target_tensors.shape}\")"
   ]
  },
  {
   "cell_type": "code",
   "execution_count": 4,
   "metadata": {},
   "outputs": [],
   "source": [
    "\n",
    "# Define the RNN model\n",
    "class RNNModel(nn.Module):\n",
    "    def __init__(self, input_size, hidden_size, output_size):\n",
    "        super(RNNModel, self).__init__()\n",
    "        self.rnn = nn.LSTM(input_size, hidden_size, batch_first=True, num_layers=3)\n",
    "        self.fc = nn.Linear(hidden_size, output_size)\n",
    "\n",
    "    def forward(self, x):\n",
    "        _, (h_n, _) = self.rnn(x)\n",
    "        out = self.fc(h_n[-1])\n",
    "        return out\n",
    "\n",
    "\n",
    "# Define custom dataset\n",
    "class PacketCaptureDataset(Dataset):\n",
    "    def __init__(self, data, targets):\n",
    "        self.data = data\n",
    "        self.targets = targets\n",
    "\n",
    "    def __len__(self):\n",
    "        return len(self.data)\n",
    "\n",
    "    def __getitem__(self, idx):\n",
    "        return self.data[idx], self.targets[idx]\n",
    "\n"
   ]
  },
  {
   "cell_type": "code",
   "execution_count": 5,
   "metadata": {},
   "outputs": [],
   "source": [
    "train_data, test_data, train_targets, test_targets = train_test_split(\n",
    "    data_tensors, target_tensors, test_size=0.2, random_state=42\n",
    ")\n",
    "\n",
    "# Create datasets and data loaders\n",
    "train_dataset = PacketCaptureDataset(train_data, train_targets)\n",
    "test_dataset = PacketCaptureDataset(test_data, test_targets)\n",
    "\n",
    "train_loader = DataLoader(train_dataset, batch_size=32, shuffle=True)\n",
    "test_loader = DataLoader(test_dataset, batch_size=32, shuffle=False)\n"
   ]
  },
  {
   "cell_type": "code",
   "execution_count": 6,
   "metadata": {},
   "outputs": [],
   "source": [
    "input_size = len(\n",
    "    train_dataset[0][0][0]\n",
    ")  # Assuming all packet captures have the same structure\n",
    "hidden_size = 64\n",
    "output_size = 1\n",
    "model = RNNModel(input_size, hidden_size, output_size)\n",
    "criterion = nn.MSELoss()\n",
    "optimizer = optim.Adam(model.parameters(), lr=0.001)\n"
   ]
  },
  {
   "cell_type": "code",
   "execution_count": 7,
   "metadata": {},
   "outputs": [
    {
     "name": "stdout",
     "output_type": "stream",
     "text": [
      "Epoch 1, Loss: 1105627.8437461853\n",
      "Epoch 2, Loss: 1085449.924797058\n",
      "Epoch 3, Loss: 1076405.9253616333\n",
      "Epoch 4, Loss: 1070121.9141540527\n",
      "Epoch 5, Loss: 1065475.9992523193\n",
      "Epoch 6, Loss: 1062240.065170288\n",
      "Epoch 7, Loss: 1052815.7422027588\n",
      "Epoch 8, Loss: 1047536.7873916626\n",
      "Epoch 9, Loss: 1041054.8440246582\n",
      "Epoch 10, Loss: 1036360.2265930176\n",
      "Epoch 11, Loss: 1030330.341003418\n",
      "Epoch 12, Loss: 1024835.4910583496\n",
      "Epoch 13, Loss: 1019212.2686309814\n",
      "Epoch 14, Loss: 1016227.6970977783\n",
      "Epoch 15, Loss: 1014130.1175384521\n",
      "Epoch 16, Loss: 1010405.3761444092\n",
      "Epoch 17, Loss: 1002005.8225860596\n",
      "Epoch 18, Loss: 1003288.1115112305\n",
      "Epoch 19, Loss: 991330.7876281738\n",
      "Epoch 20, Loss: 983684.4919586182\n",
      "Epoch 21, Loss: 977376.2052383423\n",
      "Epoch 22, Loss: 974710.0755310059\n",
      "Epoch 23, Loss: 967834.6111297607\n",
      "Epoch 24, Loss: 964372.5303039551\n",
      "Epoch 25, Loss: 959663.8687591553\n",
      "Epoch 26, Loss: 951919.1328125\n",
      "Epoch 27, Loss: 956297.2208709717\n",
      "Epoch 28, Loss: 948366.291923523\n",
      "Epoch 29, Loss: 947921.2465057373\n",
      "Epoch 30, Loss: 944814.2671890259\n",
      "Epoch 31, Loss: 940433.4940338135\n",
      "Epoch 32, Loss: 947058.6526184082\n",
      "Epoch 33, Loss: 945685.6240692139\n",
      "Epoch 34, Loss: 954610.1117248535\n",
      "Epoch 35, Loss: 950985.1711425781\n",
      "Epoch 36, Loss: 940539.9125976562\n",
      "Epoch 37, Loss: 932712.7165527344\n",
      "Epoch 38, Loss: 929078.0749359131\n",
      "Epoch 39, Loss: 920947.6224327087\n",
      "Epoch 40, Loss: 923203.8330459595\n",
      "Epoch 41, Loss: 916091.0088806152\n",
      "Epoch 42, Loss: 918906.328048706\n",
      "Epoch 43, Loss: 910532.8410339355\n",
      "Epoch 44, Loss: 913326.1043243408\n",
      "Epoch 45, Loss: 919705.9886856079\n",
      "Epoch 46, Loss: 924172.8444976807\n",
      "Epoch 47, Loss: 906460.9063415527\n",
      "Epoch 48, Loss: 905695.1568603516\n",
      "Epoch 49, Loss: 898926.4705963135\n",
      "Epoch 50, Loss: 913101.2021942139\n",
      "Epoch 51, Loss: 899986.8081970215\n",
      "Epoch 52, Loss: 900734.4827346802\n",
      "Epoch 53, Loss: 895796.867477417\n",
      "Epoch 54, Loss: 889380.4852142334\n",
      "Epoch 55, Loss: 886304.2513427734\n",
      "Epoch 56, Loss: 897188.2913208008\n",
      "Epoch 57, Loss: 894337.9585113525\n",
      "Epoch 58, Loss: 896721.8913116455\n",
      "Epoch 59, Loss: 910544.6790771484\n",
      "Epoch 60, Loss: 932792.1229782104\n",
      "Epoch 61, Loss: 917316.5036010742\n",
      "Epoch 62, Loss: 933151.0321655273\n",
      "Epoch 63, Loss: 942004.9067687988\n",
      "Epoch 64, Loss: 930431.9089660645\n",
      "Epoch 65, Loss: 913671.5236816406\n",
      "Epoch 66, Loss: 913554.8241119385\n",
      "Epoch 67, Loss: 911240.1011657715\n",
      "Epoch 68, Loss: 897255.2454071045\n",
      "Epoch 69, Loss: 888243.6498031616\n",
      "Epoch 70, Loss: 900171.0299758911\n",
      "Epoch 71, Loss: 925814.4745941162\n",
      "Epoch 72, Loss: 902957.1518859863\n",
      "Epoch 73, Loss: 886638.9696350098\n",
      "Epoch 74, Loss: 881993.8902587891\n",
      "Epoch 75, Loss: 878286.8527984619\n",
      "Epoch 76, Loss: 874960.9813690186\n",
      "Epoch 77, Loss: 871187.6026229858\n",
      "Epoch 78, Loss: 867749.1093597412\n",
      "Epoch 79, Loss: 862889.2379722595\n",
      "Epoch 80, Loss: 859262.7292785645\n",
      "Epoch 81, Loss: 873752.1976318359\n",
      "Epoch 82, Loss: 861572.7078552246\n",
      "Epoch 83, Loss: 867421.7808837891\n",
      "Epoch 84, Loss: 849494.3158111572\n",
      "Epoch 85, Loss: 850912.7058410645\n",
      "Epoch 86, Loss: 846273.264175415\n",
      "Epoch 87, Loss: 848832.1969909668\n",
      "Epoch 88, Loss: 845872.803352356\n",
      "Epoch 89, Loss: 844466.9404754639\n",
      "Epoch 90, Loss: 831925.1430053711\n",
      "Epoch 91, Loss: 836257.4003677368\n",
      "Epoch 92, Loss: 836770.4961471558\n",
      "Epoch 93, Loss: 829692.1141357422\n",
      "Epoch 94, Loss: 824715.4319458008\n",
      "Epoch 95, Loss: 821797.9046554565\n",
      "Epoch 96, Loss: 819742.7026672363\n",
      "Epoch 97, Loss: 816634.1172485352\n",
      "Epoch 98, Loss: 820686.8389892578\n",
      "Epoch 99, Loss: 823958.3424377441\n",
      "Epoch 100, Loss: 827973.4834289551\n"
     ]
    }
   ],
   "source": [
    "num_epochs = 100\n",
    "for epoch in range(num_epochs):\n",
    "    model.train()\n",
    "    total_loss = 0\n",
    "    for inputs, targets in train_loader:\n",
    "        optimizer.zero_grad()\n",
    "        outputs = model(inputs)\n",
    "        loss = criterion(outputs.squeeze(), targets)\n",
    "        loss.backward()\n",
    "        optimizer.step()\n",
    "        total_loss += loss.item()\n",
    "    print(f\"Epoch {epoch+1}, Loss: {total_loss}\")"
   ]
  },
  {
   "cell_type": "code",
   "execution_count": 10,
   "metadata": {},
   "outputs": [
    {
     "name": "stdout",
     "output_type": "stream",
     "text": [
      "Average Percent Error: 1770.4961760531432%\n"
     ]
    }
   ],
   "source": [
    "total_percent_error = 0\n",
    "num_samples = len(test_targets)\n",
    "\n",
    "for i in range(num_samples):\n",
    "    predicted_value = model(test_data[i].unsqueeze(0)).item()\n",
    "    actual_value = test_targets[i].item()\n",
    "    percent_error = abs(predicted_value - actual_value) / actual_value * 100\n",
    "    total_percent_error += percent_error\n",
    "\n",
    "average_percent_error = total_percent_error / num_samples\n",
    "print(f\"Average Percent Error: {average_percent_error}%\")\n"
   ]
  },
  {
   "cell_type": "code",
   "execution_count": 11,
   "metadata": {},
   "outputs": [
    {
     "data": {
      "text/plain": [
       "tensor([[  9.7930],\n",
       "        [  7.0405],\n",
       "        [ 23.6834],\n",
       "        [  6.3497],\n",
       "        [  7.3142],\n",
       "        [  7.3228],\n",
       "        [147.7668],\n",
       "        [  5.3759],\n",
       "        [  6.3505],\n",
       "        [ 12.9467],\n",
       "        [  6.0732],\n",
       "        [  5.7586],\n",
       "        [ 10.5661],\n",
       "        [  8.2382],\n",
       "        [ 12.5062],\n",
       "        [ 12.8790],\n",
       "        [  7.9381],\n",
       "        [  5.4403],\n",
       "        [  7.2841],\n",
       "        [ 60.4897],\n",
       "        [ 30.3898],\n",
       "        [ 65.9363],\n",
       "        [ 25.9893],\n",
       "        [ 17.4231],\n",
       "        [ 14.1098],\n",
       "        [ 17.6980],\n",
       "        [ 14.6423],\n",
       "        [  7.2882],\n",
       "        [ 13.9150],\n",
       "        [  5.8500],\n",
       "        [  9.5164],\n",
       "        [  9.6665]], grad_fn=<AddmmBackward0>)"
      ]
     },
     "execution_count": 11,
     "metadata": {},
     "output_type": "execute_result"
    }
   ],
   "source": [
    "outputs"
   ]
  },
  {
   "cell_type": "code",
   "execution_count": null,
   "metadata": {},
   "outputs": [],
   "source": []
  }
 ],
 "metadata": {
  "kernelspec": {
   "display_name": "Python 3",
   "language": "python",
   "name": "python3"
  },
  "language_info": {
   "codemirror_mode": {
    "name": "ipython",
    "version": 3
   },
   "file_extension": ".py",
   "mimetype": "text/x-python",
   "name": "python",
   "nbconvert_exporter": "python",
   "pygments_lexer": "ipython3",
   "version": "3.10.9"
  }
 },
 "nbformat": 4,
 "nbformat_minor": 2
}
