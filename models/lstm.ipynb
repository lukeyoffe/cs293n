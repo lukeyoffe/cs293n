{
 "cells": [
  {
   "cell_type": "code",
   "execution_count": 1,
   "metadata": {},
   "outputs": [],
   "source": [
    "import json\n",
    "import pandas as pd\n",
    "from sklearn.model_selection import train_test_split\n",
    "import torch\n",
    "import torch.nn as nn\n",
    "import torch.optim as optim\n",
    "from torch.utils.data import Dataset, DataLoader\n",
    "import numpy as np\n",
    "from csv_to_vec import calculate_features\n",
    "import os\n",
    "from tqdm import trange\n",
    "\n"
   ]
  },
  {
   "cell_type": "code",
   "execution_count": 2,
   "metadata": {},
   "outputs": [],
   "source": [
    "\n",
    "# Define the RNN model\n",
    "class RNNModel(nn.Module):\n",
    "    def __init__(self, input_size, hidden_size, output_size):\n",
    "        super(RNNModel, self).__init__()\n",
    "        self.rnn = nn.LSTM(input_size, hidden_size, batch_first=True)\n",
    "        self.fc = nn.Linear(hidden_size, output_size)\n",
    "\n",
    "    def forward(self, x):\n",
    "        _, (h_n, _) = self.rnn(x)\n",
    "        out = self.fc(h_n[-1])\n",
    "        return out\n",
    "\n",
    "\n",
    "# Define custom dataset\n",
    "class PacketCaptureDataset(Dataset):\n",
    "    def __init__(self, data, targets):\n",
    "        self.data = data\n",
    "        self.targets = targets\n",
    "\n",
    "    def __len__(self):\n",
    "        return len(self.data)\n",
    "\n",
    "    def __getitem__(self, idx):\n",
    "        return self.data[idx], self.targets[idx]\n",
    "\n"
   ]
  },
  {
   "cell_type": "code",
   "execution_count": 3,
   "metadata": {},
   "outputs": [
    {
     "name": "stderr",
     "output_type": "stream",
     "text": [
      "100%|██████████| 100/100 [00:13<00:00,  7.58it/s]"
     ]
    },
    {
     "name": "stdout",
     "output_type": "stream",
     "text": [
      "tensor([[5.5300e+02, 1.1390e+02, 1.6824e+00, 1.1400e+02, 6.2986e+04, 1.1400e+02,\n",
      "         1.1400e+02, 0.0000e+00, 0.0000e+00, 0.0000e+00, 0.0000e+00, 8.5090e+03,\n",
      "         8.6000e+01, 0.0000e+00, 8.6000e+01, 7.3177e+05, 8.6000e+01, 8.6000e+01,\n",
      "         0.0000e+00, 0.0000e+00, 0.0000e+00, 0.0000e+00],\n",
      "        [2.0000e+00, 8.6000e+01, 0.0000e+00, 8.6000e+01, 1.7200e+02, 8.6000e+01,\n",
      "         8.6000e+01, 0.0000e+00, 0.0000e+00, 0.0000e+00, 0.0000e+00, 2.0000e+00,\n",
      "         8.6000e+01, 0.0000e+00, 8.6000e+01, 1.7200e+02, 8.6000e+01, 8.6000e+01,\n",
      "         0.0000e+00, 0.0000e+00, 0.0000e+00, 0.0000e+00],\n",
      "        [0.0000e+00, 0.0000e+00, 0.0000e+00, 0.0000e+00, 0.0000e+00, 0.0000e+00,\n",
      "         0.0000e+00, 0.0000e+00, 0.0000e+00, 0.0000e+00, 0.0000e+00, 0.0000e+00,\n",
      "         0.0000e+00, 0.0000e+00, 0.0000e+00, 0.0000e+00, 0.0000e+00, 0.0000e+00,\n",
      "         0.0000e+00, 0.0000e+00, 0.0000e+00, 0.0000e+00],\n",
      "        [1.0000e+00, 8.6000e+01, 0.0000e+00, 8.6000e+01, 8.6000e+01, 8.6000e+01,\n",
      "         8.6000e+01, 0.0000e+00, 0.0000e+00, 0.0000e+00, 0.0000e+00, 1.0000e+00,\n",
      "         8.6000e+01, 0.0000e+00, 8.6000e+01, 8.6000e+01, 8.6000e+01, 8.6000e+01,\n",
      "         0.0000e+00, 0.0000e+00, 0.0000e+00, 0.0000e+00],\n",
      "        [0.0000e+00, 0.0000e+00, 0.0000e+00, 0.0000e+00, 0.0000e+00, 0.0000e+00,\n",
      "         0.0000e+00, 0.0000e+00, 0.0000e+00, 0.0000e+00, 0.0000e+00, 0.0000e+00,\n",
      "         0.0000e+00, 0.0000e+00, 0.0000e+00, 0.0000e+00, 0.0000e+00, 0.0000e+00,\n",
      "         0.0000e+00, 0.0000e+00, 0.0000e+00, 0.0000e+00],\n",
      "        [0.0000e+00, 0.0000e+00, 0.0000e+00, 0.0000e+00, 0.0000e+00, 0.0000e+00,\n",
      "         0.0000e+00, 0.0000e+00, 0.0000e+00, 0.0000e+00, 0.0000e+00, 0.0000e+00,\n",
      "         0.0000e+00, 0.0000e+00, 0.0000e+00, 0.0000e+00, 0.0000e+00, 0.0000e+00,\n",
      "         0.0000e+00, 0.0000e+00, 0.0000e+00, 0.0000e+00],\n",
      "        [2.4800e+02, 1.1389e+02, 1.7780e+00, 1.1400e+02, 2.8244e+04, 1.1400e+02,\n",
      "         1.1400e+02, 0.0000e+00, 0.0000e+00, 0.0000e+00, 0.0000e+00, 3.2730e+03,\n",
      "         8.6000e+01, 0.0000e+00, 8.6000e+01, 2.8148e+05, 8.6000e+01, 8.6000e+01,\n",
      "         0.0000e+00, 0.0000e+00, 0.0000e+00, 0.0000e+00],\n",
      "        [1.0000e+00, 8.6000e+01, 0.0000e+00, 8.6000e+01, 8.6000e+01, 8.6000e+01,\n",
      "         8.6000e+01, 0.0000e+00, 0.0000e+00, 0.0000e+00, 0.0000e+00, 1.0000e+00,\n",
      "         8.6000e+01, 0.0000e+00, 8.6000e+01, 8.6000e+01, 8.6000e+01, 8.6000e+01,\n",
      "         0.0000e+00, 0.0000e+00, 0.0000e+00, 0.0000e+00],\n",
      "        [1.0000e+00, 8.6000e+01, 0.0000e+00, 8.6000e+01, 8.6000e+01, 8.6000e+01,\n",
      "         8.6000e+01, 0.0000e+00, 0.0000e+00, 0.0000e+00, 0.0000e+00, 1.0000e+00,\n",
      "         8.6000e+01, 0.0000e+00, 8.6000e+01, 8.6000e+01, 8.6000e+01, 8.6000e+01,\n",
      "         0.0000e+00, 0.0000e+00, 0.0000e+00, 0.0000e+00],\n",
      "        [1.0000e+00, 8.6000e+01, 0.0000e+00, 8.6000e+01, 8.6000e+01, 8.6000e+01,\n",
      "         8.6000e+01, 0.0000e+00, 0.0000e+00, 0.0000e+00, 0.0000e+00, 1.0000e+00,\n",
      "         8.6000e+01, 0.0000e+00, 8.6000e+01, 8.6000e+01, 8.6000e+01, 8.6000e+01,\n",
      "         0.0000e+00, 0.0000e+00, 0.0000e+00, 0.0000e+00],\n",
      "        [0.0000e+00, 0.0000e+00, 0.0000e+00, 0.0000e+00, 0.0000e+00, 0.0000e+00,\n",
      "         0.0000e+00, 0.0000e+00, 0.0000e+00, 0.0000e+00, 0.0000e+00, 0.0000e+00,\n",
      "         0.0000e+00, 0.0000e+00, 0.0000e+00, 0.0000e+00, 0.0000e+00, 0.0000e+00,\n",
      "         0.0000e+00, 0.0000e+00, 0.0000e+00, 0.0000e+00],\n",
      "        [0.0000e+00, 0.0000e+00, 0.0000e+00, 0.0000e+00, 0.0000e+00, 0.0000e+00,\n",
      "         0.0000e+00, 0.0000e+00, 0.0000e+00, 0.0000e+00, 0.0000e+00, 0.0000e+00,\n",
      "         0.0000e+00, 0.0000e+00, 0.0000e+00, 0.0000e+00, 0.0000e+00, 0.0000e+00,\n",
      "         0.0000e+00, 0.0000e+00, 0.0000e+00, 0.0000e+00],\n",
      "        [0.0000e+00, 0.0000e+00, 0.0000e+00, 0.0000e+00, 0.0000e+00, 0.0000e+00,\n",
      "         0.0000e+00, 0.0000e+00, 0.0000e+00, 0.0000e+00, 0.0000e+00, 0.0000e+00,\n",
      "         0.0000e+00, 0.0000e+00, 0.0000e+00, 0.0000e+00, 0.0000e+00, 0.0000e+00,\n",
      "         0.0000e+00, 0.0000e+00, 0.0000e+00, 0.0000e+00],\n",
      "        [1.0000e+00, 8.6000e+01, 0.0000e+00, 8.6000e+01, 8.6000e+01, 8.6000e+01,\n",
      "         8.6000e+01, 0.0000e+00, 0.0000e+00, 0.0000e+00, 0.0000e+00, 1.0000e+00,\n",
      "         8.6000e+01, 0.0000e+00, 8.6000e+01, 8.6000e+01, 8.6000e+01, 8.6000e+01,\n",
      "         0.0000e+00, 0.0000e+00, 0.0000e+00, 0.0000e+00],\n",
      "        [0.0000e+00, 0.0000e+00, 0.0000e+00, 0.0000e+00, 0.0000e+00, 0.0000e+00,\n",
      "         0.0000e+00, 0.0000e+00, 0.0000e+00, 0.0000e+00, 0.0000e+00, 0.0000e+00,\n",
      "         0.0000e+00, 0.0000e+00, 0.0000e+00, 0.0000e+00, 0.0000e+00, 0.0000e+00,\n",
      "         0.0000e+00, 0.0000e+00, 0.0000e+00, 0.0000e+00]])\n",
      "tensor(380.8053)\n"
     ]
    },
    {
     "name": "stderr",
     "output_type": "stream",
     "text": [
      "\n"
     ]
    }
   ],
   "source": [
    "packet_capture_data = []  # List of lists of dicts\n",
    "for i in trange(100):\n",
    "    filename = f\"../dfs/out{i}.csv\"\n",
    "    df = pd.read_csv(filename)\n",
    "    features = calculate_features(df, 1)\n",
    "    packet_capture_data.append(features)\n",
    "\n",
    "\n",
    "speed_test_results = json.load(open(\"../dfs/ground_truths.json\"))[:100]\n",
    "\n",
    "\n",
    "# Convert data to tensors\n",
    "data_tensors = []\n",
    "for packet_capture in packet_capture_data:\n",
    "    packet_capture_tensor = torch.tensor(\n",
    "        [list(packet.values()) for packet in packet_capture], dtype=torch.float32\n",
    "    )\n",
    "    data_tensors.append(packet_capture_tensor)\n",
    "target_tensors = torch.tensor(speed_test_results, dtype=torch.float32)\n",
    "\n",
    "print(data_tensors[0])\n",
    "print(target_tensors[0])\n"
   ]
  },
  {
   "cell_type": "code",
   "execution_count": 4,
   "metadata": {},
   "outputs": [],
   "source": [
    "train_data, test_data, train_targets, test_targets = train_test_split(\n",
    "    data_tensors, target_tensors, test_size=0.2, random_state=42\n",
    ")\n",
    "\n",
    "# Create datasets and data loaders\n",
    "train_dataset = PacketCaptureDataset(train_data, train_targets)\n",
    "test_dataset = PacketCaptureDataset(test_data, test_targets)\n",
    "\n",
    "train_loader = DataLoader(train_dataset, batch_size=32, shuffle=True)\n",
    "test_loader = DataLoader(test_dataset, batch_size=32, shuffle=False)\n"
   ]
  },
  {
   "cell_type": "code",
   "execution_count": 5,
   "metadata": {},
   "outputs": [],
   "source": [
    "input_size = len(\n",
    "    packet_capture_data[0][0]\n",
    ")  # Assuming all packet captures have the same structure\n",
    "hidden_size = 64\n",
    "output_size = 1\n",
    "model = RNNModel(input_size, hidden_size, output_size)\n",
    "criterion = nn.MSELoss()\n",
    "optimizer = optim.Adam(model.parameters(), lr=0.001)\n"
   ]
  },
  {
   "cell_type": "code",
   "execution_count": 6,
   "metadata": {},
   "outputs": [
    {
     "name": "stdout",
     "output_type": "stream",
     "text": [
      "Epoch 1, Loss: 6699.1171798706055\n",
      "Epoch 2, Loss: 7022.21826171875\n",
      "Epoch 3, Loss: 7005.542297363281\n",
      "Epoch 4, Loss: 6838.4404296875\n",
      "Epoch 5, Loss: 6922.495666503906\n",
      "Epoch 6, Loss: 6857.289459228516\n",
      "Epoch 7, Loss: 6835.37744140625\n",
      "Epoch 8, Loss: 6758.746826171875\n",
      "Epoch 9, Loss: 6812.955322265625\n",
      "Epoch 10, Loss: 10509.467590332031\n"
     ]
    }
   ],
   "source": [
    "num_epochs = 10\n",
    "for epoch in range(num_epochs):\n",
    "    model.train()\n",
    "    total_loss = 0\n",
    "    for inputs, targets in train_loader:\n",
    "        optimizer.zero_grad()\n",
    "        outputs = model(inputs)\n",
    "        loss = criterion(outputs.squeeze(), targets)\n",
    "        loss.backward()\n",
    "        optimizer.step()\n",
    "        total_loss += loss.item()\n",
    "    print(f\"Epoch {epoch+1}, Loss: {total_loss}\")"
   ]
  },
  {
   "cell_type": "code",
   "execution_count": 10,
   "metadata": {},
   "outputs": [
    {
     "name": "stdout",
     "output_type": "stream",
     "text": [
      "Average Test Loss per Example: 540.191650390625\n"
     ]
    }
   ],
   "source": [
    "model.eval()\n",
    "test_loss = 0\n",
    "num_examples = 0\n",
    "with torch.no_grad():\n",
    "    for inputs, targets in test_loader:\n",
    "        # print(inputs)\n",
    "        # print(inputs.size())\n",
    "        outputs = model(inputs)\n",
    "        loss = criterion(outputs.squeeze(), targets)\n",
    "        test_loss += loss.item()\n",
    "        num_examples += inputs.size(0)\n",
    "\n",
    "average_test_loss = test_loss / num_examples\n",
    "print(f\"Average Test Loss per Example: {average_test_loss}\")"
   ]
  },
  {
   "cell_type": "code",
   "execution_count": null,
   "metadata": {},
   "outputs": [],
   "source": []
  }
 ],
 "metadata": {
  "kernelspec": {
   "display_name": "Python 3",
   "language": "python",
   "name": "python3"
  },
  "language_info": {
   "codemirror_mode": {
    "name": "ipython",
    "version": 3
   },
   "file_extension": ".py",
   "mimetype": "text/x-python",
   "name": "python",
   "nbconvert_exporter": "python",
   "pygments_lexer": "ipython3",
   "version": "3.10.13"
  }
 },
 "nbformat": 4,
 "nbformat_minor": 2
}
