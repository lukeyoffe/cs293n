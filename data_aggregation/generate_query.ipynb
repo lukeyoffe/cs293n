{
 "cells": [
  {
   "cell_type": "code",
   "execution_count": 3,
   "metadata": {},
   "outputs": [],
   "source": [
    "import random\n",
    "import datetime\n",
    "\n",
    "# Define the base query template\n",
    "base_query = \"\"\"\n",
    "(SELECT id, date, client.Network.ASNumber, a.*, \n",
    "        raw.ClientIP, raw.StartTime, raw.EndTime, \n",
    "        raw.Download.UUID as DownloadUUID\n",
    " FROM `measurement-lab.ndt.ndt7`\n",
    " WHERE date = '{date}' AND raw.Download.UUID IS NOT NULL\n",
    " LIMIT 2000)\n",
    "\"\"\"\n",
    "\n",
    "# Define the start date and end date\n",
    "start_date = datetime.date(2021, 1, 1)\n",
    "end_date = datetime.date(2024, 1, 1)\n",
    "\n",
    "# Calculate the total number of days between the start and end dates\n",
    "total_days = (end_date - start_date).days\n",
    "\n",
    "# Randomly select 100 unique days\n",
    "random_days = random.sample(range(total_days), 500)\n",
    "selected_dates = [start_date + datetime.timedelta(days=day) for day in random_days]\n",
    "\n",
    "# Generate the full query\n",
    "queries = [base_query.format(date=date) for date in selected_dates]"
   ]
  },
  {
   "cell_type": "code",
   "execution_count": 5,
   "metadata": {},
   "outputs": [
    {
     "name": "stdout",
     "output_type": "stream",
     "text": [
      "Queries saved to files for manual execution in BigQuery console.\n"
     ]
    }
   ],
   "source": [
    "# Define the number of queries per batch\n",
    "batch_size = 50\n",
    "\n",
    "# Function to save a batch of queries to a file\n",
    "def save_queries_to_file(queries, batch_number):\n",
    "    full_query = \" UNION ALL \".join(queries)\n",
    "    with open(f'initial_queries/query_batch_{batch_number}.sql', 'w') as file:\n",
    "        file.write(full_query)\n",
    "\n",
    "# Save queries in batches\n",
    "for i in range(0, len(queries), batch_size):\n",
    "    batch_queries = queries[i:i + batch_size]\n",
    "    save_queries_to_file(batch_queries, i // batch_size + 1)\n",
    "\n",
    "print(\"Queries saved to files for manual execution in BigQuery console.\")"
   ]
  },
  {
   "cell_type": "code",
   "execution_count": null,
   "metadata": {},
   "outputs": [],
   "source": []
  }
 ],
 "metadata": {
  "kernelspec": {
   "display_name": "base",
   "language": "python",
   "name": "python3"
  },
  "language_info": {
   "codemirror_mode": {
    "name": "ipython",
    "version": 3
   },
   "file_extension": ".py",
   "mimetype": "text/x-python",
   "name": "python",
   "nbconvert_exporter": "python",
   "pygments_lexer": "ipython3",
   "version": "3.10.9"
  }
 },
 "nbformat": 4,
 "nbformat_minor": 2
}
